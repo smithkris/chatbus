{
 "cells": [
  {
   "cell_type": "code",
   "execution_count": 8,
   "metadata": {},
   "outputs": [],
   "source": [
    "from nltk.chat.util import Chat, reflections"
   ]
  },
  {
   "cell_type": "code",
   "execution_count": null,
   "metadata": {},
   "outputs": [],
   "source": [
    "pairs = [\n",
    "    [\"(.*)Mon nom c'est (.*)\", [\"Hello %1\"]],\n",
    "    [\"((.*)bonjour(.*)|(.*)salut(.*)|(.*)coucou(.*))\", [\"Salut toi\", \"Hello\", \"en quoi vous aider\"]],\n",
    "    [\"(.*)merci(.*)\", [\"Bienvenue...et à bientot\"]],\n",
    "\n",
    "]\n",
    "chat = Chat(pairs, reflections)\n",
    "chat.converse()"
   ]
  },
  {
   "cell_type": "code",
   "execution_count": 19,
   "metadata": {},
   "outputs": [
    {
     "name": "stdout",
     "output_type": "stream",
     "text": [
      "Lieu de départ : Ambodivona\n",
      "Lieu d'arrivée : Analakely\n"
     ]
    }
   ],
   "source": [
    "import re\n",
    "\n",
    "# La question de l'utilisateur\n",
    "question = \"Je suis à Ambodivona, quel bus vers Analakely ?\"\n",
    "\n",
    "# Liste des noms de lieux connus\n",
    "lieux_connus = [\"Ambodivona\", \"Analakely\", \"Antananarivo\", \"etc.\"]  # Ajoutez d'autres lieux connus au besoin\n",
    "\n",
    "# Recherche des noms de lieux dans la question\n",
    "lieux_extraits = re.findall(r'\\b(?:' + '|'.join(lieux_connus) + r')\\b', question, flags=re.IGNORECASE)\n",
    "\n",
    "# Vérification des lieux extraits\n",
    "if len(lieux_extraits) >= 2:\n",
    "    lieu_depart = lieux_extraits[0]\n",
    "    lieu_arrivee = lieux_extraits[1]\n",
    "    print(\"Lieu de départ :\", lieu_depart)\n",
    "    print(\"Lieu d'arrivée :\", lieu_arrivee)\n",
    "else:\n",
    "    print(\"Impossible d'extraire les lieux de la question.\")"
   ]
  },
  {
   "cell_type": "code",
   "execution_count": 6,
   "metadata": {},
   "outputs": [
    {
     "name": "stdout",
     "output_type": "stream",
     "text": [
      "Dites quelque chose...\n",
      "Vous avez dit : sofa\n"
     ]
    }
   ],
   "source": [
    "import speech_recognition as sr\n",
    "\n",
    "recognizer = sr.Recognizer()\n",
    "while True:\n",
    "\n",
    "    with sr.Microphone() as source:\n",
    "        print(\"Dites quelque chose...\")\n",
    "        audio = recognizer.listen(source)\n",
    "\n",
    "    try:\n",
    "        text = recognizer.recognize_google(audio)\n",
    "        print(\"Vous avez dit : \" + text)\n",
    "    except sr.UnknownValueError:\n",
    "        print(\"Je n'ai pas pu comprendre l'audio.\")\n",
    "    except sr.RequestError as e:\n",
    "        print(\"Une erreur s'est produite lors de la demande de reconnaissance vocale : {0}\".format(e))\n"
   ]
  }
 ],
 "metadata": {
  "kernelspec": {
   "display_name": "Python 3",
   "language": "python",
   "name": "python3"
  },
  "language_info": {
   "codemirror_mode": {
    "name": "ipython",
    "version": 3
   },
   "file_extension": ".py",
   "mimetype": "text/x-python",
   "name": "python",
   "nbconvert_exporter": "python",
   "pygments_lexer": "ipython3",
   "version": "3.9.10"
  },
  "orig_nbformat": 4
 },
 "nbformat": 4,
 "nbformat_minor": 2
}
